{
 "cells": [
  {
   "cell_type": "markdown",
   "source": [
    "# Dataset: PhonemeSpectra, Dimensions: 11, Length: 217, Train Size: 3315, Test Size: 3353, Classes: 39, Type: Audio"
   ],
   "metadata": {
    "collapsed": false
   },
   "id": "a1e339c709a4d395"
  },
  {
   "cell_type": "code",
   "execution_count": 1,
   "outputs": [],
   "source": [
    "import numpy as np\n",
    "import matplotlib.pyplot as plt\n",
    "from sklearn.metrics import accuracy_score, classification_report, confusion_matrix, roc_curve, auc, roc_auc_score\n",
    "from tslearn.preprocessing import TimeSeriesScalerMinMax\n",
    "from sktime.datasets import load_UCR_UEA_dataset\n",
    "from sklearn.metrics import precision_score, f1_score, roc_auc_score\n",
    "import time\n",
    "from sklearn.preprocessing import label_binarize\n",
    "from collections import Counter\n",
    "from memory_profiler import memory_usage\n",
    "from imblearn.over_sampling import RandomOverSampler\n",
    "from itertools import cycle\n",
    "from sklearn.model_selection import cross_val_score, KFold"
   ],
   "metadata": {
    "collapsed": false,
    "ExecuteTime": {
     "end_time": "2024-01-20T09:56:19.457839Z",
     "start_time": "2024-01-20T09:55:59.149048600Z"
    }
   },
   "id": "34eb4e42897a3e71"
  },
  {
   "cell_type": "code",
   "execution_count": 2,
   "outputs": [],
   "source": [
    "# Deep Learning:\n",
    "from aeon.classification.deep_learning.mlp import MLPClassifier\n",
    "from aeon.classification.deep_learning.cnn import CNNClassifier\n",
    "from aeon.classification.deep_learning.fcn import FCNClassifier\n",
    "from sktime.classification.deep_learning.mcdcnn import MCDCNNClassifier\n",
    "\n",
    "# Dictionary-based:\n",
    "from aeon.classification.dictionary_based import (TemporalDictionaryEnsemble, IndividualTDE, MUSE)\n",
    "\n",
    "# Distance-based:\n",
    "from aeon.classification.distance_based import KNeighborsTimeSeriesClassifier\n",
    "\n",
    "# Feature-based:\n",
    "from aeon.classification.feature_based import Catch22Classifier, FreshPRINCEClassifier\n",
    "\n",
    "# Interval-based\n",
    "from aeon.classification.interval_based import (CanonicalIntervalForestClassifier, DrCIFClassifier,\n",
    "                                                SupervisedTimeSeriesForest, TimeSeriesForestClassifier)\n",
    "\n",
    "# Kernel-based:\n",
    "from aeon.classification.convolution_based import RocketClassifier, Arsenal"
   ],
   "metadata": {
    "collapsed": false,
    "ExecuteTime": {
     "end_time": "2024-01-20T09:56:23.066081Z",
     "start_time": "2024-01-20T09:56:19.466844500Z"
    }
   },
   "id": "656100684b2fa075"
  },
  {
   "cell_type": "code",
   "execution_count": 3,
   "outputs": [
    {
     "name": "stdout",
     "output_type": "stream",
     "text": [
      "Length of each time series: 217\n",
      "Train size: 3315\n",
      "Test size: 3353\n",
      "Training set class distribution: Counter({'aa': 85, 'ae': 85, 'ah': 85, 'ao': 85, 'aw': 85, 'ay': 85, 'b': 85, 'ch': 85, 'd': 85, 'dh': 85, 'eh': 85, 'er': 85, 'ey': 85, 'f': 85, 'g': 85, 'hh': 85, 'ih': 85, 'iy': 85, 'jh': 85, 'k': 85, 'l': 85, 'm': 85, 'n': 85, 'ng': 85, 'ow': 85, 'oy': 85, 'p': 85, 'r': 85, 's': 85, 'sh': 85, 't': 85, 'th': 85, 'uh': 85, 'uw': 85, 'v': 85, 'w': 85, 'y': 85, 'z': 85, 'zh': 85})\n",
      "Test set class distribution: Counter({'aa': 86, 'ae': 86, 'ah': 86, 'ao': 86, 'aw': 86, 'ay': 86, 'b': 86, 'ch': 86, 'd': 86, 'dh': 86, 'eh': 86, 'er': 86, 'ey': 86, 'f': 86, 'g': 86, 'hh': 86, 'ih': 86, 'iy': 86, 'jh': 86, 'k': 86, 'l': 86, 'm': 86, 'n': 86, 'ng': 86, 'ow': 86, 'oy': 86, 'p': 86, 'r': 86, 's': 86, 'sh': 86, 't': 86, 'th': 86, 'uh': 86, 'uw': 86, 'v': 86, 'w': 86, 'y': 86, 'z': 86, 'zh': 85})\n"
     ]
    }
   ],
   "source": [
    "dataset_name = \"PhonemeSpectra\"  # Change this to match your dataset name\n",
    "\n",
    "# Load the dataset\n",
    "X_train_raw, y_train = load_UCR_UEA_dataset(\"PhonemeSpectra\", split=\"train\", return_X_y=True)\n",
    "X_test_raw, y_test = load_UCR_UEA_dataset(\"PhonemeSpectra\", split=\"test\", return_X_y=True)\n",
    "\n",
    "# Print dataset sizes and class distribution\n",
    "print(\"Length of each time series:\", X_train_raw.iloc[0, 0].size)\n",
    "print(\"Train size:\", len(y_train))\n",
    "print(\"Test size:\", len(y_test))\n",
    "print(\"Training set class distribution:\", Counter(y_train))\n",
    "print(\"Test set class distribution:\", Counter(y_test))"
   ],
   "metadata": {
    "collapsed": false,
    "ExecuteTime": {
     "end_time": "2024-01-20T10:02:14.992087900Z",
     "start_time": "2024-01-20T09:56:23.075081700Z"
    }
   },
   "id": "3d2889ad9eed56ba"
  },
  {
   "cell_type": "code",
   "execution_count": 4,
   "outputs": [],
   "source": [
    "# Function to convert DataFrame to 3D numpy array (for multivariate time series)\n",
    "def dataframe_to_3darray(df):\n",
    "    num_samples = df.shape[0]\n",
    "    num_channels = df.shape[1]\n",
    "    num_timesteps = df.iloc[0, 0].shape[0]\n",
    "    array_3d = np.empty((num_samples, num_channels, num_timesteps))\n",
    "\n",
    "    for i in range(num_samples):\n",
    "        for c in range(num_channels):\n",
    "            array_3d[i, c, :] = df.iloc[i, c]\n",
    "\n",
    "    return array_3d"
   ],
   "metadata": {
    "collapsed": false,
    "ExecuteTime": {
     "end_time": "2024-01-20T10:02:15.024085800Z",
     "start_time": "2024-01-20T10:02:14.981086700Z"
    }
   },
   "id": "cb13a8058df9096c"
  },
  {
   "cell_type": "code",
   "execution_count": 5,
   "outputs": [],
   "source": [
    "# Convert and preprocess the data (maintaining multivariate structure)\n",
    "scaler = TimeSeriesScalerMinMax()\n",
    "X_train_processed = scaler.fit_transform(dataframe_to_3darray(X_train_raw))\n",
    "X_test_processed = scaler.transform(dataframe_to_3darray(X_test_raw))"
   ],
   "metadata": {
    "collapsed": false,
    "ExecuteTime": {
     "end_time": "2024-01-20T10:02:19.733718400Z",
     "start_time": "2024-01-20T10:02:15.002086800Z"
    }
   },
   "id": "ff0792c490852969"
  },
  {
   "cell_type": "code",
   "execution_count": 6,
   "outputs": [],
   "source": [
    "# Define a list of classifiers\n",
    "classifiers = [MLPClassifier(),\n",
    "               CNNClassifier(),\n",
    "               FCNClassifier(),\n",
    "               MCDCNNClassifier(),\n",
    "               TemporalDictionaryEnsemble(),\n",
    "               IndividualTDE(),\n",
    "               MUSE(support_probabilities=True),\n",
    "               KNeighborsTimeSeriesClassifier(),\n",
    "               Catch22Classifier(),\n",
    "               FreshPRINCEClassifier(),\n",
    "               SupervisedTimeSeriesForest(),\n",
    "               TimeSeriesForestClassifier(),\n",
    "               CanonicalIntervalForestClassifier(),\n",
    "               DrCIFClassifier(),\n",
    "               RocketClassifier(),\n",
    "               Arsenal()]"
   ],
   "metadata": {
    "collapsed": false,
    "ExecuteTime": {
     "end_time": "2024-01-20T10:02:34.589501200Z",
     "start_time": "2024-01-20T10:02:19.741720100Z"
    }
   },
   "id": "57952c7bf805a79e"
  },
  {
   "cell_type": "code",
   "execution_count": 7,
   "outputs": [],
   "source": [
    "# Initialize lists to store results\n",
    "results = {\"Classifier\": [], \"Execution Time\": [], \"Memory Usage\": [], \"Precision\": [], \"Accuracy\": [],\n",
    "           \"F1 Score\": [], \"ROC-AUC Score (Macro)\": [], \"ROC-AUC Score (Micro)\": [], \"Confusion Matrix\": []}\n"
   ],
   "metadata": {
    "collapsed": false,
    "ExecuteTime": {
     "end_time": "2024-01-20T10:02:34.614505400Z",
     "start_time": "2024-01-20T10:02:34.600502100Z"
    }
   },
   "id": "584f58731531238c"
  },
  {
   "cell_type": "code",
   "execution_count": 8,
   "outputs": [],
   "source": [
    "n_folds = 3"
   ],
   "metadata": {
    "collapsed": false,
    "ExecuteTime": {
     "end_time": "2024-01-20T10:02:34.651506300Z",
     "start_time": "2024-01-20T10:02:34.610500800Z"
    }
   },
   "id": "62ba161d36ea2159"
  },
  {
   "cell_type": "code",
   "execution_count": 9,
   "outputs": [],
   "source": [
    "# Function to evaluate classifier with K-Fold Cross-Validation\n",
    "def evaluate_classifier_kfold(classifier, X, y, n_folds=3):\n",
    "    kf = KFold(n_splits=n_folds, shuffle=True, random_state=0)\n",
    "    accuracies = []\n",
    "    precisions = []\n",
    "    f1_scores = []\n",
    "    roc_auc_macros = []\n",
    "    roc_auc_micros = []\n",
    "    execution_times = []\n",
    "    memory_usages = []\n",
    "    confusion_matrices = []\n",
    "\n",
    "    for train_index, test_index in kf.split(X):\n",
    "        X_train_kf, X_test_kf = X[train_index], X[test_index]\n",
    "        y_train_kf, y_test_kf = y[train_index], y[test_index]\n",
    "\n",
    "        # Measure execution time and memory usage\n",
    "        start_time = time.time()\n",
    "        mem_usage = memory_usage((classifier.fit, (X_train_kf, y_train_kf)), interval=0.1, include_children=True)\n",
    "        execution_time = time.time() - start_time\n",
    "        max_mem_usage = max(mem_usage) - min(mem_usage)\n",
    "\n",
    "        predictions = classifier.predict(X_test_kf)\n",
    "        confusion = confusion_matrix(y_test_kf, predictions)\n",
    "        confusion_matrices.append(confusion)\n",
    "\n",
    "        execution_times.append(execution_time)\n",
    "        memory_usages.append(max_mem_usage)\n",
    "        accuracies.append(accuracy_score(y_test_kf, predictions))\n",
    "        precisions.append(precision_score(y_test_kf, predictions, average='weighted', zero_division=0))\n",
    "        f1_scores.append(f1_score(y_test_kf, predictions, average='weighted'))\n",
    "\n",
    "        if hasattr(classifier, \"predict_proba\"):\n",
    "            y_prob = classifier.predict_proba(X_test_kf)\n",
    "            roc_auc_macros.append(roc_auc_score(y_test_kf, y_prob, multi_class='ovr', average='macro'))\n",
    "            roc_auc_micros.append(roc_auc_score(y_test_kf, y_prob, multi_class='ovr', average='micro'))\n",
    "\n",
    "    # Average results from all folds\n",
    "    avg_confusion_matrix = np.mean(confusion_matrices, axis=0)\n",
    "    avg_execution_time = np.mean(execution_times)\n",
    "    avg_memory_usage = np.mean(memory_usages)\n",
    "    avg_accuracy = np.mean(accuracies)\n",
    "    avg_precision = np.mean(precisions)\n",
    "    avg_f1_score = np.mean(f1_scores)\n",
    "    avg_roc_auc_macro = np.mean(roc_auc_macros) if roc_auc_macros else None\n",
    "    avg_roc_auc_micro = np.mean(roc_auc_micros) if roc_auc_micros else None\n",
    "\n",
    "    return avg_confusion_matrix, avg_execution_time, avg_memory_usage, avg_accuracy, avg_precision, avg_f1_score, avg_roc_auc_macro, avg_roc_auc_micro"
   ],
   "metadata": {
    "collapsed": false,
    "ExecuteTime": {
     "end_time": "2024-01-20T10:02:34.652509600Z",
     "start_time": "2024-01-20T10:02:34.634508900Z"
    }
   },
   "id": "b00205c361f6b278"
  },
  {
   "cell_type": "code",
   "execution_count": 10,
   "outputs": [],
   "source": [
    "# Preparing to plot ROC-AUC curves\n",
    "fpr_dict = {}\n",
    "tpr_dict = {}\n",
    "roc_auc_dict = {}"
   ],
   "metadata": {
    "collapsed": false,
    "ExecuteTime": {
     "end_time": "2024-01-20T10:02:34.681019900Z",
     "start_time": "2024-01-20T10:02:34.654507Z"
    }
   },
   "id": "bd102b973752e32f"
  },
  {
   "cell_type": "code",
   "execution_count": null,
   "outputs": [
    {
     "name": "stderr",
     "output_type": "stream",
     "text": [
      "C:\\Users\\sophi\\PycharmProjects\\TimeSeriesClassification\\venv\\lib\\site-packages\\sklearn\\preprocessing\\_encoders.py:868: FutureWarning: `sparse` was renamed to `sparse_output` in version 1.2 and will be removed in 1.4. `sparse_output` is ignored unless you leave `sparse` to its default value.\n",
      "  warnings.warn(\n",
      "C:\\Users\\sophi\\PycharmProjects\\TimeSeriesClassification\\venv\\lib\\site-packages\\keras\\src\\engine\\training.py:3079: UserWarning: You are saving your model as an HDF5 file via `model.save()`. This file format is considered legacy. We recommend using instead the native Keras format, e.g. `model.save('my_model.keras')`.\n",
      "  saving_api.save_model(\n"
     ]
    }
   ],
   "source": [
    "# Evaluate each classifier\n",
    "for classifier in classifiers:\n",
    "    classifier_name = type(classifier).__name__\n",
    "    confusion_matrix, exec_time, max_mem_usage, accuracy, precision, f1_score_val, roc_auc_macro, roc_auc_micro = evaluate_classifier_kfold(classifier, X_train_processed, y_train, n_folds)\n",
    "\n",
    "\n",
    "    results[\"Classifier\"].append(classifier_name)\n",
    "    results[\"Execution Time\"].append(exec_time)\n",
    "    results[\"Memory Usage\"].append(max_mem_usage)\n",
    "    results[\"Precision\"].append(precision)\n",
    "    results[\"Accuracy\"].append(accuracy)\n",
    "    results[\"F1 Score\"].append(f1_score_val)\n",
    "    results[\"ROC-AUC Score (Macro)\"].append(roc_auc_macro)\n",
    "    results[\"ROC-AUC Score (Micro)\"].append(roc_auc_micro)\n",
    "    results[\"Confusion Matrix\"].append(confusion_matrix)\n",
    "\n",
    "    # Print results\n",
    "    print(f\"{classifier_name} Execution Time: {exec_time:.2f}s\")\n",
    "    print(f\"{classifier_name} Memory Usage: {max_mem_usage:.2f} MB\")\n",
    "    print(f\"{classifier_name} Precision: {precision:.2f}\")\n",
    "    print(f\"{classifier_name} Accuracy: {accuracy:.2f}\")\n",
    "    print(f\"{classifier_name} F1 Score: {f1_score_val:.2f}\")\n",
    "    print(f\"{classifier_name} ROC-AUC Score (Macro): {roc_auc_macro:.2f}\")\n",
    "    print(f\"{classifier_name} ROC-AUC Score (Micro): {roc_auc_micro:.2f}\")\n",
    "\n",
    "\n",
    "    if hasattr(classifier, \"predict_proba\"):\n",
    "        y_prob = classifier.predict_proba(X_test_processed)\n",
    "        y_test_bin = label_binarize(y_test, classes=np.unique(y_train))\n",
    "        n_classes = y_test_bin.shape[1]\n",
    "\n",
    "        fpr = dict()\n",
    "        tpr = dict()\n",
    "        roc_auc = dict()\n",
    "        for i in range(n_classes):\n",
    "            fpr[i], tpr[i], _ = roc_curve(y_test_bin[:, i], y_prob[:, i])\n",
    "            roc_auc[i] = auc(fpr[i], tpr[i])\n",
    "\n",
    "        fpr_dict[classifier_name] = fpr\n",
    "        tpr_dict[classifier_name] = tpr\n",
    "        roc_auc_dict[classifier_name] = roc_auc"
   ],
   "metadata": {
    "collapsed": false,
    "is_executing": true,
    "ExecuteTime": {
     "start_time": "2024-01-20T10:02:34.682017400Z"
    }
   },
   "id": "b530214ddc33bd0c"
  },
  {
   "cell_type": "code",
   "execution_count": null,
   "outputs": [],
   "source": [
    "# Plot ROC-AUC Curves\n",
    "\n",
    "# Define the number of columns and rows you want\n",
    "num_cols = 4  # Fewer columns\n",
    "num_rows = 6  # More rows to accommodate all classifiers, assuming 21 classifiers\n",
    "\n",
    "# Calculate figure size dynamically based on the number of columns and rows\n",
    "# Each subplot will be of size (4, 4) for example, but you can adjust this as needed\n",
    "subplot_size_width = 4\n",
    "subplot_size_height = 4\n",
    "fig_width = subplot_size_width * num_cols\n",
    "fig_height = subplot_size_height * num_rows\n",
    "\n",
    "# Initialize the figure with the calculated dimensions\n",
    "plt.figure(figsize=(fig_width, fig_height))\n",
    "\n",
    "# Create the ROC AUC plots\n",
    "for i, classifier_name in enumerate(results[\"Classifier\"]):\n",
    "    ax = plt.subplot(num_rows, num_cols, i + 1)\n",
    "    for j in range(n_classes):\n",
    "        ax.plot(fpr_dict[classifier_name][j], tpr_dict[classifier_name][j], lw=2,\n",
    "                label=f'Class {j} (AUC = {roc_auc_dict[classifier_name][j]:.2f})')\n",
    "    ax.plot([0, 1], [0, 1], 'k--', lw=2)\n",
    "    ax.set_xlim([0.0, 1.0])\n",
    "    ax.set_ylim([0.0, 1.05])\n",
    "    ax.set_xlabel('False Positive Rate')\n",
    "    ax.set_ylabel('True Positive Rate')\n",
    "    ax.set_title(f'ROC AUC for {classifier_name}')\n",
    "    ax.legend(loc=\"lower right\")\n",
    "\n",
    "# Adjust the spacing between subplots and the top edge of the figure\n",
    "plt.subplots_adjust(hspace=0.3, wspace=0.3, top=0.9)\n",
    "\n",
    "# Add an overall title\n",
    "plt.suptitle(f'{dataset_name} ROC AUC Curves', fontsize=20, y=0.98)\n",
    "\n",
    "# Save the figure with enough room for the suptitle\n",
    "plt.tight_layout()  # This adjusts subplot params so that the subplots fit into the figure area.\n",
    "plt.subplots_adjust(top=0.95)  # Adjust this value to increase the space for the title.\n",
    "plt.suptitle(f\"{dataset_name} ROC AUC Curves\", fontsize=16)\n",
    "plt.savefig(f\"{dataset_name}_ROC_AUC_curves.png\", bbox_inches='tight')\n",
    "plt.show()"
   ],
   "metadata": {
    "collapsed": false,
    "is_executing": true
   },
   "id": "f13d0cb60d2d93c1"
  },
  {
   "cell_type": "code",
   "execution_count": null,
   "outputs": [],
   "source": [
    "def plot_roc_auc_curves_macro(fpr_dict, tpr_dict, roc_auc_dict, classifiers, n_classes, dataset_name=dataset_name):\n",
    "    plt.figure(figsize=(10, 8))\n",
    "\n",
    "    colors = cycle(['blue', 'red', 'green', 'purple', 'orange', 'brown', 'pink', 'gray', 'olive', 'cyan'])\n",
    "    \n",
    "    colors = cycle(['midnightblue', 'indianred', 'green', 'purple', 'orange', 'brown', 'pink', 'gray', 'olive', 'cyan', 'mediumaquamarine', 'chocolate', 'palegreen', 'antiquewhite', 'tan', 'darkseagreen'])\n",
    "\n",
    "    for (classifier_name, color) in zip(classifiers, colors):\n",
    "        fpr = fpr_dict[classifier_name]\n",
    "        tpr = tpr_dict[classifier_name]\n",
    "        roc_auc = roc_auc_dict[classifier_name]\n",
    "\n",
    "        all_fpr = np.unique(np.concatenate([fpr[i] for i in range(n_classes)]))\n",
    "        mean_tpr = np.zeros_like(all_fpr)\n",
    "        for i in range(n_classes):\n",
    "            mean_tpr += np.interp(all_fpr, fpr[i], tpr[i])  # Use np.interp instead of interp\n",
    "        mean_tpr /= n_classes\n",
    "\n",
    "        fpr[\"macro\"] = all_fpr\n",
    "        tpr[\"macro\"] = mean_tpr\n",
    "        roc_auc[\"macro\"] = auc(fpr[\"macro\"], tpr[\"macro\"])\n",
    "\n",
    "        plt.plot(fpr[\"macro\"], tpr[\"macro\"],\n",
    "                 label=f'macro-average ROC curve of {classifier_name} (area = {roc_auc[\"macro\"]:.2f})',\n",
    "                 color=color, linestyle='-', linewidth=2)\n",
    "\n",
    "    plt.plot([0, 1], [0, 1], 'k--', lw=2)\n",
    "    plt.xlim([0.0, 1.0])\n",
    "    plt.ylim([0.0, 1.05])\n",
    "    plt.xlabel('False Positive Rate')\n",
    "    plt.ylabel('True Positive Rate')\n",
    "    plt.title(f'{dataset_name} Macro-average ROC curve per classifier')\n",
    "    plt.legend(loc=\"lower right\")\n",
    "    plt.tight_layout()\n",
    "\n",
    "    # Save the figure with the dataset name in the filename\n",
    "    filename = f\"{dataset_name}_macro_average_roc_curve.png\"\n",
    "    plt.savefig(filename)\n",
    "    plt.show()\n",
    "    plt.close()  # Close the figure to free memory\n",
    "\n",
    "# Call the function with the appropriate parameters\n",
    "plot_roc_auc_curves_macro(fpr_dict, tpr_dict, roc_auc_dict, results[\"Classifier\"], n_classes)"
   ],
   "metadata": {
    "collapsed": false,
    "is_executing": true
   },
   "id": "b65b12d0ce260beb"
  },
  {
   "cell_type": "code",
   "execution_count": null,
   "outputs": [],
   "source": [
    "# Function to plot results\n",
    "def plot_results(results, metric, title, color):\n",
    "    plt.figure(figsize=(10, 6))\n",
    "    plt.bar(results[\"Classifier\"], results[metric], color=color)\n",
    "    plt.xlabel('Classifiers')\n",
    "    plt.ylabel(metric)\n",
    "    plt.title(title)\n",
    "    plt.ylim(0, 1)\n",
    "    plt.xticks(rotation=90, ha='right')\n",
    "    plt.show()\n",
    "\n",
    "\n",
    "def plot_results_improved(results, metric, dataset_name, color, ylabel=None):\n",
    "    plt.figure(figsize=(15, 8))\n",
    "    plt.bar(results[\"Classifier\"], results[metric], color=color)\n",
    "    plt.xlabel('Classifiers')\n",
    "    if ylabel:\n",
    "        plt.ylabel(ylabel)\n",
    "    title = f\"{dataset_name} {metric} Comparison\"\n",
    "    plt.title(title)\n",
    "    if metric == \"Execution Time\":\n",
    "        max_execution_time = max(results[metric])\n",
    "        plt.ylim(0, max_execution_time * 1.1)\n",
    "    else:\n",
    "        plt.ylim(0, max(results[metric]) * 1.1)  # Adjust for other metrics as well\n",
    "\n",
    "    plt.xticks(rotation=45, ha='right')\n",
    "    plt.tight_layout()\n",
    "    # Save the figure\n",
    "    plt.savefig(f\"{dataset_name}_{metric}.png\", bbox_inches='tight')\n",
    "    plt.show()\n",
    "\n",
    "\n",
    "# Apply the improved plotting function for each metric you want to plot\n",
    "plot_results_improved(results, \"Accuracy\", dataset_name, \"chocolate\")\n",
    "plot_results_improved(results, \"ROC-AUC Score (Macro)\", dataset_name, \"saddlebrown\")\n",
    "plot_results_improved(results, \"Execution Time\", dataset_name, \"sandybrown\", ylabel=\"Time (s)\")\n",
    "plot_results_improved(results, \"Memory Usage\", dataset_name, \"peachpuff\", ylabel=\"Space (MB)\")\n",
    "plot_results_improved(results, \"Precision\", dataset_name, \"peru\")\n",
    "plot_results_improved(results, \"F1 Score\", dataset_name, \"sienna\")"
   ],
   "metadata": {
    "collapsed": false,
    "is_executing": true
   },
   "id": "74c2b2de8466da83"
  },
  {
   "cell_type": "code",
   "execution_count": null,
   "outputs": [],
   "source": [
    "# Plot confusion matrices together\n",
    "num_classifiers = len(results[\"Classifier\"])\n",
    "num_cols = 6\n",
    "num_rows = -(-num_classifiers // num_cols)  # Ceiling division\n",
    "\n",
    "plt.figure(figsize=(20, 4 * num_rows))\n",
    "for i, classifier_name in enumerate(results[\"Classifier\"]):\n",
    "    plt.subplot(num_rows, num_cols, i + 1)\n",
    "    plt.imshow(results[\"Confusion Matrix\"][i], interpolation='nearest', cmap=plt.cm.Oranges)\n",
    "    plt.title(f'{classifier_name}')\n",
    "    plt.colorbar()\n",
    "    plt.xlabel('Predicted Labels')\n",
    "    plt.ylabel('True Labels')\n",
    "    tick_marks = np.arange(len(np.unique(y_train)))\n",
    "    plt.xticks(tick_marks, tick_marks, rotation=45)\n",
    "    plt.yticks(tick_marks, tick_marks)\n",
    "\n",
    "# Adjust the spacing of the subplots to make room for the suptitle\n",
    "plt.subplots_adjust(top=0.85)  # You may need to adjust this value\n",
    "plt.suptitle(f\"{dataset_name} Confusion Matrices\", fontsize=16)\n",
    "\n",
    "# Save the figure with enough room for the suptitle\n",
    "plt.tight_layout(rect=[0, 0.03, 1, 0.95])  # You may need to adjust these values\n",
    "plt.savefig(f\"{dataset_name}_Confusion_Matrices.png\", bbox_inches='tight')\n",
    "plt.show()"
   ],
   "metadata": {
    "collapsed": false,
    "is_executing": true
   },
   "id": "1dc1f8e36e53ae06"
  }
 ],
 "metadata": {
  "kernelspec": {
   "display_name": "Python 3",
   "language": "python",
   "name": "python3"
  },
  "language_info": {
   "codemirror_mode": {
    "name": "ipython",
    "version": 2
   },
   "file_extension": ".py",
   "mimetype": "text/x-python",
   "name": "python",
   "nbconvert_exporter": "python",
   "pygments_lexer": "ipython2",
   "version": "2.7.6"
  }
 },
 "nbformat": 4,
 "nbformat_minor": 5
}
