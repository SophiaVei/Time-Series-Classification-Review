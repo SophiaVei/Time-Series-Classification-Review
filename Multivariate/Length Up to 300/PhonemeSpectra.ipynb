{
 "cells": [
  {
   "cell_type": "code",
   "execution_count": 3,
   "id": "initial_id",
   "metadata": {
    "collapsed": true,
    "ExecuteTime": {
     "end_time": "2024-05-20T10:33:15.634313400Z",
     "start_time": "2024-05-20T10:33:09.062167Z"
    }
   },
   "outputs": [
    {
     "ename": "KeyboardInterrupt",
     "evalue": "",
     "output_type": "error",
     "traceback": [
      "\u001B[1;31m---------------------------------------------------------------------------\u001B[0m",
      "\u001B[1;31mKeyboardInterrupt\u001B[0m                         Traceback (most recent call last)",
      "Cell \u001B[1;32mIn[3], line 2\u001B[0m\n\u001B[0;32m      1\u001B[0m \u001B[38;5;28;01mimport\u001B[39;00m \u001B[38;5;21;01mnumpy\u001B[39;00m \u001B[38;5;28;01mas\u001B[39;00m \u001B[38;5;21;01mnp\u001B[39;00m\n\u001B[1;32m----> 2\u001B[0m \u001B[38;5;28;01mimport\u001B[39;00m \u001B[38;5;21;01mmatplotlib\u001B[39;00m\u001B[38;5;21;01m.\u001B[39;00m\u001B[38;5;21;01mpyplot\u001B[39;00m \u001B[38;5;28;01mas\u001B[39;00m \u001B[38;5;21;01mplt\u001B[39;00m\n\u001B[0;32m      3\u001B[0m \u001B[38;5;28;01mfrom\u001B[39;00m \u001B[38;5;21;01msklearn\u001B[39;00m\u001B[38;5;21;01m.\u001B[39;00m\u001B[38;5;21;01mmetrics\u001B[39;00m \u001B[38;5;28;01mimport\u001B[39;00m accuracy_score, classification_report, confusion_matrix, roc_curve, auc, roc_auc_score\n\u001B[0;32m      4\u001B[0m \u001B[38;5;28;01mfrom\u001B[39;00m \u001B[38;5;21;01mtslearn\u001B[39;00m\u001B[38;5;21;01m.\u001B[39;00m\u001B[38;5;21;01mpreprocessing\u001B[39;00m \u001B[38;5;28;01mimport\u001B[39;00m TimeSeriesScalerMinMax\n",
      "File \u001B[1;32m~\\PycharmProjects\\TimeSeriesClassification\\venv\\lib\\site-packages\\matplotlib\\pyplot.py:59\u001B[0m\n\u001B[0;32m     57\u001B[0m \u001B[38;5;28;01mimport\u001B[39;00m \u001B[38;5;21;01mmatplotlib\u001B[39;00m\u001B[38;5;21;01m.\u001B[39;00m\u001B[38;5;21;01mimage\u001B[39;00m\n\u001B[0;32m     58\u001B[0m \u001B[38;5;28;01mfrom\u001B[39;00m \u001B[38;5;21;01mmatplotlib\u001B[39;00m \u001B[38;5;28;01mimport\u001B[39;00m _api\n\u001B[1;32m---> 59\u001B[0m \u001B[38;5;28;01mfrom\u001B[39;00m \u001B[38;5;21;01mmatplotlib\u001B[39;00m \u001B[38;5;28;01mimport\u001B[39;00m (  \u001B[38;5;66;03m# Re-exported for typing.\u001B[39;00m\n\u001B[0;32m     60\u001B[0m     cm \u001B[38;5;28;01mas\u001B[39;00m cm, get_backend \u001B[38;5;28;01mas\u001B[39;00m get_backend, rcParams \u001B[38;5;28;01mas\u001B[39;00m rcParams, style \u001B[38;5;28;01mas\u001B[39;00m style)\n\u001B[0;32m     61\u001B[0m \u001B[38;5;28;01mfrom\u001B[39;00m \u001B[38;5;21;01mmatplotlib\u001B[39;00m \u001B[38;5;28;01mimport\u001B[39;00m _pylab_helpers, interactive\n\u001B[0;32m     62\u001B[0m \u001B[38;5;28;01mfrom\u001B[39;00m \u001B[38;5;21;01mmatplotlib\u001B[39;00m \u001B[38;5;28;01mimport\u001B[39;00m cbook\n",
      "File \u001B[1;32m~\\PycharmProjects\\TimeSeriesClassification\\venv\\lib\\site-packages\\matplotlib\\style\\__init__.py:1\u001B[0m\n\u001B[1;32m----> 1\u001B[0m \u001B[38;5;28;01mfrom\u001B[39;00m \u001B[38;5;21;01m.\u001B[39;00m\u001B[38;5;21;01mcore\u001B[39;00m \u001B[38;5;28;01mimport\u001B[39;00m available, context, library, reload_library, use\n\u001B[0;32m      4\u001B[0m __all__ \u001B[38;5;241m=\u001B[39m [\u001B[38;5;124m\"\u001B[39m\u001B[38;5;124mavailable\u001B[39m\u001B[38;5;124m\"\u001B[39m, \u001B[38;5;124m\"\u001B[39m\u001B[38;5;124mcontext\u001B[39m\u001B[38;5;124m\"\u001B[39m, \u001B[38;5;124m\"\u001B[39m\u001B[38;5;124mlibrary\u001B[39m\u001B[38;5;124m\"\u001B[39m, \u001B[38;5;124m\"\u001B[39m\u001B[38;5;124mreload_library\u001B[39m\u001B[38;5;124m\"\u001B[39m, \u001B[38;5;124m\"\u001B[39m\u001B[38;5;124muse\u001B[39m\u001B[38;5;124m\"\u001B[39m]\n",
      "File \u001B[1;32m~\\PycharmProjects\\TimeSeriesClassification\\venv\\lib\\site-packages\\matplotlib\\style\\core.py:233\u001B[0m\n\u001B[0;32m    228\u001B[0m     \u001B[38;5;28;01mreturn\u001B[39;00m main_dict\n\u001B[0;32m    231\u001B[0m \u001B[38;5;66;03m# Load style library\u001B[39;00m\n\u001B[0;32m    232\u001B[0m \u001B[38;5;66;03m# ==================\u001B[39;00m\n\u001B[1;32m--> 233\u001B[0m _base_library \u001B[38;5;241m=\u001B[39m \u001B[43mread_style_directory\u001B[49m\u001B[43m(\u001B[49m\u001B[43mBASE_LIBRARY_PATH\u001B[49m\u001B[43m)\u001B[49m\n\u001B[0;32m    234\u001B[0m library \u001B[38;5;241m=\u001B[39m {}\n\u001B[0;32m    235\u001B[0m available \u001B[38;5;241m=\u001B[39m []\n",
      "File \u001B[1;32m~\\PycharmProjects\\TimeSeriesClassification\\venv\\lib\\site-packages\\matplotlib\\style\\core.py:209\u001B[0m, in \u001B[0;36mread_style_directory\u001B[1;34m(style_dir)\u001B[0m\n\u001B[0;32m    207\u001B[0m \u001B[38;5;250m\u001B[39m\u001B[38;5;124;03m\"\"\"Return dictionary of styles defined in *style_dir*.\"\"\"\u001B[39;00m\n\u001B[0;32m    208\u001B[0m styles \u001B[38;5;241m=\u001B[39m \u001B[38;5;28mdict\u001B[39m()\n\u001B[1;32m--> 209\u001B[0m \u001B[38;5;28;01mfor\u001B[39;00m path \u001B[38;5;129;01min\u001B[39;00m Path(style_dir)\u001B[38;5;241m.\u001B[39mglob(\u001B[38;5;124mf\u001B[39m\u001B[38;5;124m\"\u001B[39m\u001B[38;5;124m*.\u001B[39m\u001B[38;5;132;01m{\u001B[39;00mSTYLE_EXTENSION\u001B[38;5;132;01m}\u001B[39;00m\u001B[38;5;124m\"\u001B[39m):\n\u001B[0;32m    210\u001B[0m     \u001B[38;5;28;01mwith\u001B[39;00m warnings\u001B[38;5;241m.\u001B[39mcatch_warnings(record\u001B[38;5;241m=\u001B[39m\u001B[38;5;28;01mTrue\u001B[39;00m) \u001B[38;5;28;01mas\u001B[39;00m warns:\n\u001B[0;32m    211\u001B[0m         styles[path\u001B[38;5;241m.\u001B[39mstem] \u001B[38;5;241m=\u001B[39m _rc_params_in_file(path)\n",
      "File \u001B[1;32m~\\AppData\\Local\\Programs\\Python\\Python39\\lib\\pathlib.py:1177\u001B[0m, in \u001B[0;36mPath.glob\u001B[1;34m(self, pattern)\u001B[0m\n\u001B[0;32m   1175\u001B[0m     \u001B[38;5;28;01mraise\u001B[39;00m \u001B[38;5;167;01mNotImplementedError\u001B[39;00m(\u001B[38;5;124m\"\u001B[39m\u001B[38;5;124mNon-relative patterns are unsupported\u001B[39m\u001B[38;5;124m\"\u001B[39m)\n\u001B[0;32m   1176\u001B[0m selector \u001B[38;5;241m=\u001B[39m _make_selector(\u001B[38;5;28mtuple\u001B[39m(pattern_parts), \u001B[38;5;28mself\u001B[39m\u001B[38;5;241m.\u001B[39m_flavour)\n\u001B[1;32m-> 1177\u001B[0m \u001B[38;5;28;01mfor\u001B[39;00m p \u001B[38;5;129;01min\u001B[39;00m selector\u001B[38;5;241m.\u001B[39mselect_from(\u001B[38;5;28mself\u001B[39m):\n\u001B[0;32m   1178\u001B[0m     \u001B[38;5;28;01myield\u001B[39;00m p\n",
      "File \u001B[1;32m~\\AppData\\Local\\Programs\\Python\\Python39\\lib\\pathlib.py:558\u001B[0m, in \u001B[0;36m_WildcardSelector._select_from\u001B[1;34m(self, parent_path, is_dir, exists, scandir)\u001B[0m\n\u001B[0;32m    556\u001B[0m \u001B[38;5;28;01mdef\u001B[39;00m \u001B[38;5;21m_select_from\u001B[39m(\u001B[38;5;28mself\u001B[39m, parent_path, is_dir, exists, scandir):\n\u001B[0;32m    557\u001B[0m     \u001B[38;5;28;01mtry\u001B[39;00m:\n\u001B[1;32m--> 558\u001B[0m         \u001B[38;5;28;01mwith\u001B[39;00m scandir(parent_path) \u001B[38;5;28;01mas\u001B[39;00m scandir_it:\n\u001B[0;32m    559\u001B[0m             entries \u001B[38;5;241m=\u001B[39m \u001B[38;5;28mlist\u001B[39m(scandir_it)\n\u001B[0;32m    560\u001B[0m         \u001B[38;5;28;01mfor\u001B[39;00m entry \u001B[38;5;129;01min\u001B[39;00m entries:\n",
      "\u001B[1;31mKeyboardInterrupt\u001B[0m: "
     ]
    }
   ],
   "source": [
    "import numpy as np\n",
    "import matplotlib.pyplot as plt\n",
    "from sklearn.metrics import accuracy_score, classification_report, confusion_matrix, roc_curve, auc, roc_auc_score\n",
    "from tslearn.preprocessing import TimeSeriesScalerMinMax\n",
    "from sktime.datasets import load_UCR_UEA_dataset\n",
    "from sklearn.metrics import precision_score, f1_score, roc_auc_score\n",
    "import time\n",
    "from sklearn.preprocessing import label_binarize\n",
    "from collections import Counter\n",
    "from memory_profiler import memory_usage\n",
    "from itertools import cycle"
   ]
  },
  {
   "cell_type": "code",
   "execution_count": null,
   "outputs": [],
   "source": [
    "# Deep Learning:\n",
    "from aeon.classification.deep_learning.mlp import MLPClassifier\n",
    "from aeon.classification.deep_learning.cnn import CNNClassifier\n",
    "from aeon.classification.deep_learning.fcn import FCNClassifier\n",
    "from sktime.classification.deep_learning.mcdcnn import MCDCNNClassifier\n",
    "\n",
    "# Dictionary-based:\n",
    "from aeon.classification.dictionary_based import (TemporalDictionaryEnsemble, IndividualTDE, MUSE)\n",
    "\n",
    "# Distance-based:\n",
    "from aeon.classification.distance_based import KNeighborsTimeSeriesClassifier\n",
    "\n",
    "# Feature-based:\n",
    "from aeon.classification.feature_based import Catch22Classifier, FreshPRINCEClassifier\n",
    "\n",
    "# Interval-based\n",
    "from aeon.classification.interval_based import (CanonicalIntervalForestClassifier, DrCIFClassifier,\n",
    "                                                SupervisedTimeSeriesForest, TimeSeriesForestClassifier)\n",
    "\n",
    "# Kernel-based:\n",
    "from aeon.classification.convolution_based import RocketClassifier, Arsenal"
   ],
   "metadata": {
    "collapsed": false,
    "ExecuteTime": {
     "start_time": "2024-05-20T10:33:15.634313400Z"
    }
   },
   "id": "7c718996232b0f45"
  },
  {
   "cell_type": "code",
   "execution_count": null,
   "outputs": [],
   "source": [
    "dataset_name = \"PhonemeSpectra\"  # Change this to match your dataset name\n",
    "\n",
    "# Load the dataset\n",
    "X_train_raw, y_train = load_UCR_UEA_dataset(\"PhonemeSpectra\", split=\"train\", return_X_y=True)\n",
    "X_test_raw, y_test = load_UCR_UEA_dataset(\"PhonemeSpectra\", split=\"test\", return_X_y=True)\n",
    "\n",
    "# Print dataset sizes and class distribution\n",
    "print(\"Length of each time series:\", X_train_raw.iloc[0, 0].size)\n",
    "print(\"Train size:\", len(y_train))\n",
    "print(\"Test size:\", len(y_test))\n",
    "print(\"Training set class distribution:\", Counter(y_train))\n",
    "print(\"Test set class distribution:\", Counter(y_test))"
   ],
   "metadata": {
    "collapsed": false,
    "ExecuteTime": {
     "start_time": "2024-05-20T10:33:15.640315400Z"
    }
   },
   "id": "3fa422e348d2009f"
  },
  {
   "cell_type": "code",
   "execution_count": 1,
   "outputs": [],
   "source": [
    "# Function to convert DataFrame to 3D numpy array (for multivariate time series)\n",
    "def dataframe_to_3darray(df):\n",
    "    num_samples = df.shape[0]\n",
    "    num_channels = df.shape[1]\n",
    "    num_timesteps = df.iloc[0, 0].shape[0]\n",
    "    array_3d = np.empty((num_samples, num_channels, num_timesteps))\n",
    "\n",
    "    for i in range(num_samples):\n",
    "        for c in range(num_channels):\n",
    "            array_3d[i, c, :] = df.iloc[i, c]\n",
    "\n",
    "    return array_3d"
   ],
   "metadata": {
    "collapsed": false,
    "ExecuteTime": {
     "end_time": "2024-05-20T10:32:39.549112800Z",
     "start_time": "2024-05-20T10:32:39.525111100Z"
    }
   },
   "id": "61a7a914e04d1fb1"
  },
  {
   "cell_type": "code",
   "execution_count": 19,
   "outputs": [],
   "source": [
    "# Convert and preprocess the data (maintaining multivariate structure)\n",
    "scaler = TimeSeriesScalerMinMax()\n",
    "X_train_processed = scaler.fit_transform(dataframe_to_3darray(X_train_raw))\n",
    "X_test_processed = scaler.transform(dataframe_to_3darray(X_test_raw))"
   ],
   "metadata": {
    "collapsed": false,
    "ExecuteTime": {
     "end_time": "2024-01-21T01:11:25.397986900Z",
     "start_time": "2024-01-21T01:11:21.042522400Z"
    }
   },
   "id": "96e10d83cf0e7f0"
  },
  {
   "cell_type": "code",
   "execution_count": 20,
   "outputs": [],
   "source": [
    "# Define a list of classifiers\n",
    "classifiers = [MLPClassifier(),\n",
    "               CNNClassifier(),\n",
    "               FCNClassifier(),\n",
    "               MCDCNNClassifier(),\n",
    "               TemporalDictionaryEnsemble(),\n",
    "               IndividualTDE(),\n",
    "               MUSE(support_probabilities=True),\n",
    "               KNeighborsTimeSeriesClassifier(),\n",
    "               Catch22Classifier(),\n",
    "               FreshPRINCEClassifier(),\n",
    "               SupervisedTimeSeriesForest(),\n",
    "               TimeSeriesForestClassifier(),\n",
    "               CanonicalIntervalForestClassifier(),\n",
    "               DrCIFClassifier(),\n",
    "               RocketClassifier(),\n",
    "               Arsenal()]"
   ],
   "metadata": {
    "collapsed": false,
    "ExecuteTime": {
     "end_time": "2024-01-21T01:11:26.196754700Z",
     "start_time": "2024-01-21T01:11:25.405987900Z"
    }
   },
   "id": "867ef228fb001580"
  },
  {
   "cell_type": "code",
   "execution_count": 21,
   "outputs": [],
   "source": [
    "# Initialize lists to store results\n",
    "results = {\"Classifier\": [], \"Execution Time\": [], \"Memory Usage\": [], \"Precision\": [], \"Accuracy\": [],\n",
    "           \"F1 Score\": [], \"ROC-AUC Score (Macro)\": [], \"ROC-AUC Score (Micro)\": [], \"Confusion Matrix\": []}"
   ],
   "metadata": {
    "collapsed": false,
    "ExecuteTime": {
     "end_time": "2024-01-21T01:11:26.217758300Z",
     "start_time": "2024-01-21T01:11:26.202755700Z"
    }
   },
   "id": "15bbb256c7fc9fee"
  },
  {
   "cell_type": "code",
   "execution_count": 22,
   "outputs": [],
   "source": [
    "# Function to evaluate classifier\n",
    "def evaluate_classifier(classifier, X_train, X_test, y_train, y_test):\n",
    "    # Inner function to include both fitting and prediction for memory profiling\n",
    "    def fit_and_predict():\n",
    "        classifier.fit(X_train, y_train)\n",
    "        return classifier.predict(X_test)\n",
    "\n",
    "    # Measure execution time and memory usage for fitting and predicting\n",
    "    start_time = time.time()\n",
    "    mem_usage = memory_usage((fit_and_predict,), interval=0.1, include_children=True, retval=True)\n",
    "    execution_time = time.time() - start_time\n",
    "    max_mem_usage = max(mem_usage[0]) - min(mem_usage[0])  # mem_usage[0] contains the memory usage\n",
    "    predicted_labels = mem_usage[1]  # mem_usage[1] contains the return value from fit_and_predict\n",
    "\n",
    "    # Proceed with the rest of the evaluation\n",
    "    precision = precision_score(y_test, predicted_labels, average='weighted')\n",
    "    accuracy = accuracy_score(y_test, predicted_labels)\n",
    "    f1_score_val = f1_score(y_test, predicted_labels, average='weighted')\n",
    "    confusion = confusion_matrix(y_test, predicted_labels)\n",
    "\n",
    "    # If the classifier supports probability estimates, calculate ROC AUC scores\n",
    "    roc_auc_macro = roc_auc_micro = None\n",
    "    if hasattr(classifier, \"predict_proba\"):\n",
    "        y_prob = classifier.predict_proba(X_test)\n",
    "        roc_auc_macro = roc_auc_score(y_test, y_prob, multi_class='ovr', average='macro')\n",
    "        roc_auc_micro = roc_auc_score(y_test, y_prob, multi_class='ovr', average='micro')\n",
    "\n",
    "    # Return all the metrics including memory usage\n",
    "    return execution_time, max_mem_usage, precision, accuracy, f1_score_val, roc_auc_macro, roc_auc_micro, confusion"
   ],
   "metadata": {
    "collapsed": false,
    "ExecuteTime": {
     "end_time": "2024-01-21T01:11:26.250276700Z",
     "start_time": "2024-01-21T01:11:26.231762800Z"
    }
   },
   "id": "8bb6eefa44289278"
  },
  {
   "cell_type": "code",
   "execution_count": 23,
   "outputs": [],
   "source": [
    "# Preparing to plot ROC-AUC curves\n",
    "fpr_dict = {}\n",
    "tpr_dict = {}\n",
    "roc_auc_dict = {}"
   ],
   "metadata": {
    "collapsed": false,
    "ExecuteTime": {
     "end_time": "2024-01-21T01:11:26.268275900Z",
     "start_time": "2024-01-21T01:11:26.248276600Z"
    }
   },
   "id": "ce74d720357774ae"
  },
  {
   "cell_type": "code",
   "execution_count": 2,
   "outputs": [
    {
     "ename": "NameError",
     "evalue": "name 'classifiers' is not defined",
     "output_type": "error",
     "traceback": [
      "\u001B[1;31m---------------------------------------------------------------------------\u001B[0m",
      "\u001B[1;31mNameError\u001B[0m                                 Traceback (most recent call last)",
      "Cell \u001B[1;32mIn[2], line 2\u001B[0m\n\u001B[0;32m      1\u001B[0m \u001B[38;5;66;03m# Evaluate each classifier\u001B[39;00m\n\u001B[1;32m----> 2\u001B[0m \u001B[38;5;28;01mfor\u001B[39;00m classifier \u001B[38;5;129;01min\u001B[39;00m \u001B[43mclassifiers\u001B[49m:\n\u001B[0;32m      3\u001B[0m     classifier_name \u001B[38;5;241m=\u001B[39m \u001B[38;5;28mtype\u001B[39m(classifier)\u001B[38;5;241m.\u001B[39m\u001B[38;5;18m__name__\u001B[39m\n\u001B[0;32m      4\u001B[0m     exec_time, max_mem_usage, precision, accuracy, f1_score_val, roc_auc_macro, roc_auc_micro, confusion \u001B[38;5;241m=\u001B[39m \\\n\u001B[0;32m      5\u001B[0m         evaluate_classifier(classifier, X_train_processed, X_test_processed, y_train, y_test)\n",
      "\u001B[1;31mNameError\u001B[0m: name 'classifiers' is not defined"
     ]
    }
   ],
   "source": [
    "# Evaluate each classifier\n",
    "for classifier in classifiers:\n",
    "    classifier_name = type(classifier).__name__\n",
    "    exec_time, max_mem_usage, precision, accuracy, f1_score_val, roc_auc_macro, roc_auc_micro, confusion = \\\n",
    "        evaluate_classifier(classifier, X_train_processed, X_test_processed, y_train, y_test)\n",
    "\n",
    "\n",
    "    results[\"Classifier\"].append(classifier_name)\n",
    "    results[\"Execution Time\"].append(exec_time)\n",
    "    results[\"Memory Usage\"].append(max_mem_usage)\n",
    "    results[\"Precision\"].append(precision)\n",
    "    results[\"Accuracy\"].append(accuracy)\n",
    "    results[\"F1 Score\"].append(f1_score_val)\n",
    "    results[\"ROC-AUC Score (Macro)\"].append(roc_auc_macro)\n",
    "    results[\"ROC-AUC Score (Micro)\"].append(roc_auc_micro)\n",
    "    results[\"Confusion Matrix\"].append(confusion)\n",
    "\n",
    "    # Print results\n",
    "    print(f\"{classifier_name} Execution Time: {exec_time:.2f}s\")\n",
    "    print(f\"{classifier_name} Memory Usage: {max_mem_usage:.2f} MB\")\n",
    "    print(f\"{classifier_name} Precision: {precision:.2f}\")\n",
    "    print(f\"{classifier_name} Accuracy: {accuracy:.2f}\")\n",
    "    print(f\"{classifier_name} F1 Score: {f1_score_val:.2f}\")\n",
    "    print(f\"{classifier_name} ROC-AUC Score (Macro): {roc_auc_macro:.2f}\")\n",
    "    print(f\"{classifier_name} ROC-AUC Score (Micro): {roc_auc_micro:.2f}\")\n",
    "\n",
    "\n",
    "    if hasattr(classifier, \"predict_proba\"):\n",
    "        y_prob = classifier.predict_proba(X_test_processed)\n",
    "        y_test_bin = label_binarize(y_test, classes=np.unique(y_train))\n",
    "        n_classes = y_test_bin.shape[1]\n",
    "\n",
    "        fpr = dict()\n",
    "        tpr = dict()\n",
    "        roc_auc = dict()\n",
    "        for i in range(n_classes):\n",
    "            fpr[i], tpr[i], _ = roc_curve(y_test_bin[:, i], y_prob[:, i])\n",
    "            roc_auc[i] = auc(fpr[i], tpr[i])\n",
    "\n",
    "        fpr_dict[classifier_name] = fpr\n",
    "        tpr_dict[classifier_name] = tpr\n",
    "        roc_auc_dict[classifier_name] = roc_auc"
   ],
   "metadata": {
    "collapsed": false,
    "ExecuteTime": {
     "end_time": "2024-05-20T10:33:03.464434900Z",
     "start_time": "2024-05-20T10:33:02.137573500Z"
    }
   },
   "id": "b21291f9e4791441"
  },
  {
   "cell_type": "code",
   "execution_count": null,
   "outputs": [],
   "source": [
    "# Plot ROC-AUC Curves\n",
    "\n",
    "# Define the number of columns and rows you want\n",
    "num_cols = 4  # Fewer columns\n",
    "num_rows = 6  # More rows to accommodate all classifiers, assuming 21 classifiers\n",
    "\n",
    "# Calculate figure size dynamically based on the number of columns and rows\n",
    "# Each subplot will be of size (4, 4) for example, but you can adjust this as needed\n",
    "subplot_size_width = 4\n",
    "subplot_size_height = 4\n",
    "fig_width = subplot_size_width * num_cols\n",
    "fig_height = subplot_size_height * num_rows\n",
    "\n",
    "# Initialize the figure with the calculated dimensions\n",
    "plt.figure(figsize=(fig_width, fig_height))\n",
    "\n",
    "# Create the ROC AUC plots\n",
    "for i, classifier_name in enumerate(results[\"Classifier\"]):\n",
    "    ax = plt.subplot(num_rows, num_cols, i + 1)\n",
    "    for j in range(n_classes):\n",
    "        ax.plot(fpr_dict[classifier_name][j], tpr_dict[classifier_name][j], lw=2,\n",
    "                label=f'Class {j} (AUC = {roc_auc_dict[classifier_name][j]:.2f})')\n",
    "    ax.plot([0, 1], [0, 1], 'k--', lw=2)\n",
    "    ax.set_xlim([0.0, 1.0])\n",
    "    ax.set_ylim([0.0, 1.05])\n",
    "    ax.set_xlabel('False Positive Rate')\n",
    "    ax.set_ylabel('True Positive Rate')\n",
    "    ax.set_title(f'ROC AUC for {classifier_name}')\n",
    "    ax.legend(loc=\"lower right\")\n",
    "\n",
    "# Adjust the spacing between subplots and the top edge of the figure\n",
    "plt.subplots_adjust(hspace=0.3, wspace=0.3, top=0.9)\n",
    "\n",
    "# Add an overall title\n",
    "plt.suptitle(f'{dataset_name} ROC AUC Curves', fontsize=20, y=0.98)\n",
    "\n",
    "# Save the figure with enough room for the suptitle\n",
    "plt.tight_layout()  # This adjusts subplot params so that the subplots fit into the figure area.\n",
    "plt.subplots_adjust(top=0.95)  # Adjust this value to increase the space for the title.\n",
    "plt.suptitle(f\"{dataset_name} ROC AUC Curves\", fontsize=16)\n",
    "plt.savefig(f\"{dataset_name}_ROC_AUC_curves.png\", bbox_inches='tight')\n",
    "plt.show()"
   ],
   "metadata": {
    "collapsed": false,
    "ExecuteTime": {
     "start_time": "2024-01-21T09:25:07.214611500Z"
    }
   },
   "id": "df75a8565fec99e7"
  },
  {
   "cell_type": "code",
   "execution_count": null,
   "outputs": [],
   "source": [
    "def plot_roc_auc_curves_macro(fpr_dict, tpr_dict, roc_auc_dict, classifiers, n_classes, dataset_name=dataset_name):\n",
    "    plt.figure(figsize=(10, 8))\n",
    "\n",
    "    colors = cycle(['blue', 'red', 'green', 'purple', 'orange', 'brown', 'pink', 'gray', 'olive', 'cyan'])\n",
    "    \n",
    "    colors = cycle(['midnightblue', 'indianred', 'green', 'purple', 'orange', 'brown', 'pink', 'gray', 'olive', 'cyan', 'mediumaquamarine', 'chocolate', 'palegreen', 'antiquewhite', 'tan', 'darkseagreen'])\n",
    "\n",
    "    for (classifier_name, color) in zip(classifiers, colors):\n",
    "        fpr = fpr_dict[classifier_name]\n",
    "        tpr = tpr_dict[classifier_name]\n",
    "        roc_auc = roc_auc_dict[classifier_name]\n",
    "\n",
    "        all_fpr = np.unique(np.concatenate([fpr[i] for i in range(n_classes)]))\n",
    "        mean_tpr = np.zeros_like(all_fpr)\n",
    "        for i in range(n_classes):\n",
    "            mean_tpr += np.interp(all_fpr, fpr[i], tpr[i])  # Use np.interp instead of interp\n",
    "        mean_tpr /= n_classes\n",
    "\n",
    "        fpr[\"macro\"] = all_fpr\n",
    "        tpr[\"macro\"] = mean_tpr\n",
    "        roc_auc[\"macro\"] = auc(fpr[\"macro\"], tpr[\"macro\"])\n",
    "\n",
    "        plt.plot(fpr[\"macro\"], tpr[\"macro\"],\n",
    "                 label=f'macro-average ROC curve of {classifier_name} (area = {roc_auc[\"macro\"]:.2f})',\n",
    "                 color=color, linestyle='-', linewidth=2)\n",
    "\n",
    "    plt.plot([0, 1], [0, 1], 'k--', lw=2)\n",
    "    plt.xlim([0.0, 1.0])\n",
    "    plt.ylim([0.0, 1.05])\n",
    "    plt.xlabel('False Positive Rate')\n",
    "    plt.ylabel('True Positive Rate')\n",
    "    plt.title(f'{dataset_name} Macro-average ROC curve per classifier')\n",
    "    plt.legend(loc=\"lower right\")\n",
    "    plt.tight_layout()\n",
    "\n",
    "    # Save the figure with the dataset name in the filename\n",
    "    filename = f\"{dataset_name}_macro_average_roc_curve.png\"\n",
    "    plt.savefig(filename)\n",
    "    plt.show()\n",
    "    plt.close()  # Close the figure to free memory\n",
    "\n",
    "# Call the function with the appropriate parameters\n",
    "plot_roc_auc_curves_macro(fpr_dict, tpr_dict, roc_auc_dict, results[\"Classifier\"], n_classes)"
   ],
   "metadata": {
    "collapsed": false,
    "ExecuteTime": {
     "end_time": "2024-01-21T09:25:07.240130100Z",
     "start_time": "2024-01-21T09:25:07.219611900Z"
    }
   },
   "id": "f49dd19d58e5d848"
  },
  {
   "cell_type": "code",
   "execution_count": null,
   "outputs": [],
   "source": [
    "# Function to plot results\n",
    "def plot_results(results, metric, title, color):\n",
    "    plt.figure(figsize=(10, 6))\n",
    "    plt.bar(results[\"Classifier\"], results[metric], color=color)\n",
    "    plt.xlabel('Classifiers')\n",
    "    plt.ylabel(metric)\n",
    "    plt.title(title)\n",
    "    plt.ylim(0, 1)\n",
    "    plt.xticks(rotation=90, ha='right')\n",
    "    plt.show()\n",
    "\n",
    "\n",
    "def plot_results_improved(results, metric, dataset_name, color, ylabel=None):\n",
    "    plt.figure(figsize=(15, 8))\n",
    "    plt.bar(results[\"Classifier\"], results[metric], color=color)\n",
    "    plt.xlabel('Classifiers')\n",
    "    if ylabel:\n",
    "        plt.ylabel(ylabel)\n",
    "    title = f\"{dataset_name} {metric} Comparison\"\n",
    "    plt.title(title)\n",
    "    if metric == \"Execution Time\":\n",
    "        max_execution_time = max(results[metric])\n",
    "        plt.ylim(0, max_execution_time * 1.1)\n",
    "    else:\n",
    "        plt.ylim(0, max(results[metric]) * 1.1)  # Adjust for other metrics as well\n",
    "\n",
    "    plt.xticks(rotation=45, ha='right')\n",
    "    plt.tight_layout()\n",
    "    # Save the figure\n",
    "    plt.savefig(f\"{dataset_name}_{metric}.png\", bbox_inches='tight')\n",
    "    plt.show()\n",
    "\n",
    "\n",
    "# Apply the improved plotting function for each metric you want to plot\n",
    "plot_results_improved(results, \"Accuracy\", dataset_name, \"chocolate\")\n",
    "plot_results_improved(results, \"ROC-AUC Score (Macro)\", dataset_name, \"saddlebrown\")\n",
    "plot_results_improved(results, \"Execution Time\", dataset_name, \"sandybrown\", ylabel=\"Time (s)\")\n",
    "plot_results_improved(results, \"Memory Usage\", dataset_name, \"peachpuff\", ylabel=\"Space (MB)\")\n",
    "plot_results_improved(results, \"Precision\", dataset_name, \"peru\")\n",
    "plot_results_improved(results, \"F1 Score\", dataset_name, \"sienna\")"
   ],
   "metadata": {
    "collapsed": false,
    "ExecuteTime": {
     "start_time": "2024-01-21T09:25:07.230130Z"
    }
   },
   "id": "4f5a1ada9066de27"
  },
  {
   "cell_type": "code",
   "execution_count": null,
   "outputs": [],
   "source": [
    "# Plot confusion matrices together\n",
    "num_classifiers = len(results[\"Classifier\"])\n",
    "num_cols = 6\n",
    "num_rows = -(-num_classifiers // num_cols)  # Ceiling division\n",
    "\n",
    "plt.figure(figsize=(20, 4 * num_rows))\n",
    "for i, classifier_name in enumerate(results[\"Classifier\"]):\n",
    "    plt.subplot(num_rows, num_cols, i + 1)\n",
    "    plt.imshow(results[\"Confusion Matrix\"][i], interpolation='nearest', cmap=plt.cm.Oranges)\n",
    "    plt.title(f'{classifier_name}')\n",
    "    plt.colorbar()\n",
    "    plt.xlabel('Predicted Labels')\n",
    "    plt.ylabel('True Labels')\n",
    "    tick_marks = np.arange(len(np.unique(y_train)))\n",
    "    plt.xticks(tick_marks, tick_marks, rotation=45)\n",
    "    plt.yticks(tick_marks, tick_marks)\n",
    "\n",
    "# Adjust the spacing of the subplots to make room for the suptitle\n",
    "plt.subplots_adjust(top=0.85)  # You may need to adjust this value\n",
    "plt.suptitle(f\"{dataset_name} Confusion Matrices\", fontsize=16)\n",
    "\n",
    "# Save the figure with enough room for the suptitle\n",
    "plt.tight_layout(rect=[0, 0.03, 1, 0.95])  # You may need to adjust these values\n",
    "plt.savefig(f\"{dataset_name}_Confusion_Matrices.png\", bbox_inches='tight')\n",
    "plt.show()"
   ],
   "metadata": {
    "collapsed": false,
    "ExecuteTime": {
     "start_time": "2024-01-21T09:25:07.237129400Z"
    }
   },
   "id": "e2bbdd765a16898e"
  }
 ],
 "metadata": {
  "kernelspec": {
   "display_name": "Python 3",
   "language": "python",
   "name": "python3"
  },
  "language_info": {
   "codemirror_mode": {
    "name": "ipython",
    "version": 2
   },
   "file_extension": ".py",
   "mimetype": "text/x-python",
   "name": "python",
   "nbconvert_exporter": "python",
   "pygments_lexer": "ipython2",
   "version": "2.7.6"
  }
 },
 "nbformat": 4,
 "nbformat_minor": 5
}
